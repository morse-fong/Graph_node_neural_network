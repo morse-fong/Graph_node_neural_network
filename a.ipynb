{
 "cells": [
  {
   "cell_type": "code",
   "execution_count": 4,
   "id": "initial_id",
   "metadata": {
    "collapsed": true,
    "ExecuteTime": {
     "end_time": "2023-08-14T18:11:55.504400200Z",
     "start_time": "2023-08-14T18:11:55.496367700Z"
    }
   },
   "outputs": [
    {
     "name": "stdout",
     "output_type": "stream",
     "text": [
      "global.var_unlock_mob[0]=\"1.000000\"\n",
      "global.var_unlock_mob[1]=\"1.000000\"\n",
      "global.var_unlock_mob[2]=\"1.000000\"\n",
      "global.var_unlock_mob[3]=\"1.000000\"\n",
      "global.var_unlock_mob[4]=\"1.000000\"\n",
      "global.var_unlock_mob[5]=\"1.000000\"\n",
      "global.var_unlock_mob[6]=\"1.000000\"\n",
      "global.var_unlock_mob[7]=\"1.000000\"\n",
      "global.var_unlock_mob[8]=\"1.000000\"\n",
      "global.var_unlock_mob[9]=\"1.000000\"\n",
      "global.var_unlock_mob[10]=\"1.000000\"\n",
      "global.var_unlock_mob[11]=\"1.000000\"\n",
      "global.var_unlock_mob[12]=\"1.000000\"\n",
      "global.var_unlock_mob[13]=\"1.000000\"\n",
      "global.var_unlock_mob[14]=\"1.000000\"\n"
     ]
    }
   ],
   "source": [
    "for i in range(15):\n",
    "    print(\"global.var_unlock_mob[\",i,\"]=\\\"1.000000\\\"\",sep='')"
   ]
  }
 ],
 "metadata": {
  "kernelspec": {
   "display_name": "Python 3",
   "language": "python",
   "name": "python3"
  },
  "language_info": {
   "codemirror_mode": {
    "name": "ipython",
    "version": 2
   },
   "file_extension": ".py",
   "mimetype": "text/x-python",
   "name": "python",
   "nbconvert_exporter": "python",
   "pygments_lexer": "ipython2",
   "version": "2.7.6"
  }
 },
 "nbformat": 4,
 "nbformat_minor": 5
}
